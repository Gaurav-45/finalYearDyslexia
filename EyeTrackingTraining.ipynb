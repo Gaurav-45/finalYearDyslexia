{
 "cells": [
  {
   "cell_type": "code",
   "execution_count": 37,
   "id": "bbc8d674",
   "metadata": {},
   "outputs": [],
   "source": [
    "import os\n",
    "import glob\n",
    "import pandas as pd\n",
    "import sktime\n",
    "import numpy as np"
   ]
  },
  {
   "cell_type": "code",
   "execution_count": 2,
   "id": "4ed9319f",
   "metadata": {},
   "outputs": [
    {
     "data": {
      "text/plain": [
       "'0.17.1'"
      ]
     },
     "execution_count": 2,
     "metadata": {},
     "output_type": "execute_result"
    }
   ],
   "source": [
    "sktime.__version__"
   ]
  },
  {
   "cell_type": "code",
   "execution_count": 3,
   "id": "6a13fbbf",
   "metadata": {},
   "outputs": [],
   "source": [
    "basePath = \"D:\\\\FinProjII\\\\EyeTracking\\\\Recording Data\\\\*\""
   ]
  },
  {
   "cell_type": "code",
   "execution_count": 4,
   "id": "f108489c",
   "metadata": {},
   "outputs": [],
   "source": [
    "dataList = glob.glob(basePath)\n",
    "dataList = dataList[:-1]"
   ]
  },
  {
   "cell_type": "code",
   "execution_count": 5,
   "id": "d1cae9a5",
   "metadata": {},
   "outputs": [],
   "source": [
    "identifier = [item.split(\"\\\\\")[-1][-1] for item in dataList]"
   ]
  },
  {
   "cell_type": "code",
   "execution_count": 6,
   "id": "27717639",
   "metadata": {},
   "outputs": [],
   "source": [
    "# Subjects with a code ending in 1 or 2 were reading disabled.\n",
    "# Subjects with a code ending in 3 or 4 were controls. \n",
    "# Subjects with a code ending in 1 or 3 were male.\n",
    "# Subjects with a code ending in 2 or 4 were female.\n",
    "disabled = [int((item == '1') or (item == '2')) for item in identifier]\n",
    "control = [int((item == '3') or (item == '4')) for item in identifier]\n",
    "male = [int((item == '1') or (item == '3')) for item in identifier]\n",
    "female = [int((item == '2') or (item == '4')) for item in identifier]"
   ]
  },
  {
   "cell_type": "code",
   "execution_count": 7,
   "id": "4c9d69a5",
   "metadata": {
    "scrolled": false
   },
   "outputs": [],
   "source": [
    "dataInfo = pd.DataFrame(list(zip(dataList, identifier, disabled, control, male, female)))"
   ]
  },
  {
   "cell_type": "code",
   "execution_count": 8,
   "id": "3bf64e76",
   "metadata": {},
   "outputs": [],
   "source": [
    "dataInfo.columns = [\"file\", \"lastNumber\", \"dyslexic\", \"control\", \"male\", \"female\"]"
   ]
  },
  {
   "cell_type": "code",
   "execution_count": 9,
   "id": "79858bb4",
   "metadata": {},
   "outputs": [],
   "source": [
    "dataInfo.drop([\"lastNumber\", \"control\", \"female\"], axis = 1, inplace = True)"
   ]
  },
  {
   "cell_type": "code",
   "execution_count": 17,
   "id": "65cd8f32",
   "metadata": {
    "scrolled": true
   },
   "outputs": [],
   "source": [
    "fileName = \"A1R.txt\"\n",
    "data = pd.read_csv(dataInfo.file.to_list()[0] + \"\\\\\" + fileName, sep = \"\\t\", decimal = \",\")"
   ]
  },
  {
   "cell_type": "code",
   "execution_count": 11,
   "id": "057279e7",
   "metadata": {},
   "outputs": [
    {
     "data": {
      "text/html": [
       "<div>\n",
       "<style scoped>\n",
       "    .dataframe tbody tr th:only-of-type {\n",
       "        vertical-align: middle;\n",
       "    }\n",
       "\n",
       "    .dataframe tbody tr th {\n",
       "        vertical-align: top;\n",
       "    }\n",
       "\n",
       "    .dataframe thead th {\n",
       "        text-align: right;\n",
       "    }\n",
       "</style>\n",
       "<table border=\"1\" class=\"dataframe\">\n",
       "  <thead>\n",
       "    <tr style=\"text-align: right;\">\n",
       "      <th></th>\n",
       "      <th>file</th>\n",
       "      <th>disabled</th>\n",
       "      <th>male</th>\n",
       "    </tr>\n",
       "  </thead>\n",
       "  <tbody>\n",
       "    <tr>\n",
       "      <th>0</th>\n",
       "      <td>D:\\FinProjII\\EyeTracking\\Recording Data\\111GM3</td>\n",
       "      <td>0</td>\n",
       "      <td>1</td>\n",
       "    </tr>\n",
       "    <tr>\n",
       "      <th>1</th>\n",
       "      <td>D:\\FinProjII\\EyeTracking\\Recording Data\\111JA2</td>\n",
       "      <td>1</td>\n",
       "      <td>0</td>\n",
       "    </tr>\n",
       "    <tr>\n",
       "      <th>2</th>\n",
       "      <td>D:\\FinProjII\\EyeTracking\\Recording Data\\111RP1</td>\n",
       "      <td>1</td>\n",
       "      <td>1</td>\n",
       "    </tr>\n",
       "    <tr>\n",
       "      <th>3</th>\n",
       "      <td>D:\\FinProjII\\EyeTracking\\Recording Data\\112JU3</td>\n",
       "      <td>0</td>\n",
       "      <td>1</td>\n",
       "    </tr>\n",
       "    <tr>\n",
       "      <th>4</th>\n",
       "      <td>D:\\FinProjII\\EyeTracking\\Recording Data\\112KA1</td>\n",
       "      <td>1</td>\n",
       "      <td>1</td>\n",
       "    </tr>\n",
       "    <tr>\n",
       "      <th>...</th>\n",
       "      <td>...</td>\n",
       "      <td>...</td>\n",
       "      <td>...</td>\n",
       "    </tr>\n",
       "    <tr>\n",
       "      <th>180</th>\n",
       "      <td>D:\\FinProjII\\EyeTracking\\Recording Data\\826ES4</td>\n",
       "      <td>0</td>\n",
       "      <td>0</td>\n",
       "    </tr>\n",
       "    <tr>\n",
       "      <th>181</th>\n",
       "      <td>D:\\FinProjII\\EyeTracking\\Recording Data\\826PP1</td>\n",
       "      <td>1</td>\n",
       "      <td>1</td>\n",
       "    </tr>\n",
       "    <tr>\n",
       "      <th>182</th>\n",
       "      <td>D:\\FinProjII\\EyeTracking\\Recording Data\\826SJ1</td>\n",
       "      <td>1</td>\n",
       "      <td>1</td>\n",
       "    </tr>\n",
       "    <tr>\n",
       "      <th>183</th>\n",
       "      <td>D:\\FinProjII\\EyeTracking\\Recording Data\\831OK2</td>\n",
       "      <td>1</td>\n",
       "      <td>0</td>\n",
       "    </tr>\n",
       "    <tr>\n",
       "      <th>184</th>\n",
       "      <td>D:\\FinProjII\\EyeTracking\\Recording Data\\831PA3</td>\n",
       "      <td>0</td>\n",
       "      <td>1</td>\n",
       "    </tr>\n",
       "  </tbody>\n",
       "</table>\n",
       "<p>185 rows × 3 columns</p>\n",
       "</div>"
      ],
      "text/plain": [
       "                                               file  disabled  male\n",
       "0    D:\\FinProjII\\EyeTracking\\Recording Data\\111GM3         0     1\n",
       "1    D:\\FinProjII\\EyeTracking\\Recording Data\\111JA2         1     0\n",
       "2    D:\\FinProjII\\EyeTracking\\Recording Data\\111RP1         1     1\n",
       "3    D:\\FinProjII\\EyeTracking\\Recording Data\\112JU3         0     1\n",
       "4    D:\\FinProjII\\EyeTracking\\Recording Data\\112KA1         1     1\n",
       "..                                              ...       ...   ...\n",
       "180  D:\\FinProjII\\EyeTracking\\Recording Data\\826ES4         0     0\n",
       "181  D:\\FinProjII\\EyeTracking\\Recording Data\\826PP1         1     1\n",
       "182  D:\\FinProjII\\EyeTracking\\Recording Data\\826SJ1         1     1\n",
       "183  D:\\FinProjII\\EyeTracking\\Recording Data\\831OK2         1     0\n",
       "184  D:\\FinProjII\\EyeTracking\\Recording Data\\831PA3         0     1\n",
       "\n",
       "[185 rows x 3 columns]"
      ]
     },
     "execution_count": 11,
     "metadata": {},
     "output_type": "execute_result"
    }
   ],
   "source": [
    "dataInfo"
   ]
  },
  {
   "cell_type": "code",
   "execution_count": 86,
   "id": "cf1080f0",
   "metadata": {},
   "outputs": [],
   "source": [
    "def makeTrainingData(df):\n",
    "    fullDataX = []\n",
    "    fullDataY = []\n",
    "    for index, series in df.iterrows():\n",
    "        file = series[\"file\"]\n",
    "        label = series[\"disabled\"]\n",
    "        fileData = pd.read_csv(file + \"\\\\\" + fileName, sep = \"\\t\", decimal = \",\")\n",
    "        for i in range(len(fileData),2000):\n",
    "            fileData.loc[i] = [0,0,0,0,0]\n",
    "        fileData[\"LX\"] = fileData[\"LX\"].astype(\"float\")\n",
    "        fileData[\"LY\"] = fileData[\"LY\"].astype(\"float\")\n",
    "        fileData[\"RX\"] = fileData[\"RX\"].astype(\"float\")\n",
    "        fileData[\"RY\"] = fileData[\"RY\"].astype(\"float\")\n",
    "        fileData = fileData.drop([\"T\"], axis = 1)\n",
    "        fullDataX.append(fileData)\n",
    "        fullDataY.append(label)\n",
    "    return fullDataX, np.array(fullDataY)"
   ]
  },
  {
   "cell_type": "code",
   "execution_count": 87,
   "id": "9fb1fc4b",
   "metadata": {},
   "outputs": [],
   "source": [
    "X, y = makeTrainingData(dataInfo)"
   ]
  },
  {
   "cell_type": "code",
   "execution_count": 88,
   "id": "5dc0d84b",
   "metadata": {},
   "outputs": [
    {
     "data": {
      "text/html": [
       "<style>#sk-container-id-3 {color: black;background-color: white;}#sk-container-id-3 pre{padding: 0;}#sk-container-id-3 div.sk-toggleable {background-color: white;}#sk-container-id-3 label.sk-toggleable__label {cursor: pointer;display: block;width: 100%;margin-bottom: 0;padding: 0.3em;box-sizing: border-box;text-align: center;}#sk-container-id-3 label.sk-toggleable__label-arrow:before {content: \"▸\";float: left;margin-right: 0.25em;color: #696969;}#sk-container-id-3 label.sk-toggleable__label-arrow:hover:before {color: black;}#sk-container-id-3 div.sk-estimator:hover label.sk-toggleable__label-arrow:before {color: black;}#sk-container-id-3 div.sk-toggleable__content {max-height: 0;max-width: 0;overflow: hidden;text-align: left;background-color: #f0f8ff;}#sk-container-id-3 div.sk-toggleable__content pre {margin: 0.2em;color: black;border-radius: 0.25em;background-color: #f0f8ff;}#sk-container-id-3 input.sk-toggleable__control:checked~div.sk-toggleable__content {max-height: 200px;max-width: 100%;overflow: auto;}#sk-container-id-3 input.sk-toggleable__control:checked~label.sk-toggleable__label-arrow:before {content: \"▾\";}#sk-container-id-3 div.sk-estimator input.sk-toggleable__control:checked~label.sk-toggleable__label {background-color: #d4ebff;}#sk-container-id-3 div.sk-label input.sk-toggleable__control:checked~label.sk-toggleable__label {background-color: #d4ebff;}#sk-container-id-3 input.sk-hidden--visually {border: 0;clip: rect(1px 1px 1px 1px);clip: rect(1px, 1px, 1px, 1px);height: 1px;margin: -1px;overflow: hidden;padding: 0;position: absolute;width: 1px;}#sk-container-id-3 div.sk-estimator {font-family: monospace;background-color: #f0f8ff;border: 1px dotted black;border-radius: 0.25em;box-sizing: border-box;margin-bottom: 0.5em;}#sk-container-id-3 div.sk-estimator:hover {background-color: #d4ebff;}#sk-container-id-3 div.sk-parallel-item::after {content: \"\";width: 100%;border-bottom: 1px solid gray;flex-grow: 1;}#sk-container-id-3 div.sk-label:hover label.sk-toggleable__label {background-color: #d4ebff;}#sk-container-id-3 div.sk-serial::before {content: \"\";position: absolute;border-left: 1px solid gray;box-sizing: border-box;top: 0;bottom: 0;left: 50%;z-index: 0;}#sk-container-id-3 div.sk-serial {display: flex;flex-direction: column;align-items: center;background-color: white;padding-right: 0.2em;padding-left: 0.2em;position: relative;}#sk-container-id-3 div.sk-item {position: relative;z-index: 1;}#sk-container-id-3 div.sk-parallel {display: flex;align-items: stretch;justify-content: center;background-color: white;position: relative;}#sk-container-id-3 div.sk-item::before, #sk-container-id-3 div.sk-parallel-item::before {content: \"\";position: absolute;border-left: 1px solid gray;box-sizing: border-box;top: 0;bottom: 0;left: 50%;z-index: -1;}#sk-container-id-3 div.sk-parallel-item {display: flex;flex-direction: column;z-index: 1;position: relative;background-color: white;}#sk-container-id-3 div.sk-parallel-item:first-child::after {align-self: flex-end;width: 50%;}#sk-container-id-3 div.sk-parallel-item:last-child::after {align-self: flex-start;width: 50%;}#sk-container-id-3 div.sk-parallel-item:only-child::after {width: 0;}#sk-container-id-3 div.sk-dashed-wrapped {border: 1px dashed gray;margin: 0 0.4em 0.5em 0.4em;box-sizing: border-box;padding-bottom: 0.4em;background-color: white;}#sk-container-id-3 div.sk-label label {font-family: monospace;font-weight: bold;display: inline-block;line-height: 1.2em;}#sk-container-id-3 div.sk-label-container {text-align: center;}#sk-container-id-3 div.sk-container {/* jupyter's `normalize.less` sets `[hidden] { display: none; }` but bootstrap.min.css set `[hidden] { display: none !important; }` so we also need the `!important` here to be able to override the default hidden behavior on the sphinx rendered scikit-learn.org. See: https://github.com/scikit-learn/scikit-learn/issues/21755 */display: inline-block !important;position: relative;}#sk-container-id-3 div.sk-text-repr-fallback {display: none;}</style><div id=\"sk-container-id-3\" class=\"sk-top-container\"><div class=\"sk-text-repr-fallback\"><pre>RocketClassifier(num_kernels=2000)</pre><b>In a Jupyter environment, please rerun this cell to show the HTML representation or trust the notebook. <br />On GitHub, the HTML representation is unable to render, please try loading this page with nbviewer.org.</b></div><div class=\"sk-container\" hidden><div class=\"sk-item\"><div class=\"sk-estimator sk-toggleable\"><input class=\"sk-toggleable__control sk-hidden--visually\" id=\"sk-estimator-id-3\" type=\"checkbox\" checked><label for=\"sk-estimator-id-3\" class=\"sk-toggleable__label sk-toggleable__label-arrow\">RocketClassifier</label><div class=\"sk-toggleable__content\"><pre>RocketClassifier(num_kernels=2000)</pre></div></div></div></div></div>"
      ],
      "text/plain": [
       "RocketClassifier(num_kernels=2000)"
      ]
     },
     "execution_count": 88,
     "metadata": {},
     "output_type": "execute_result"
    }
   ],
   "source": [
    "from sklearn.model_selection import train_test_split\n",
    "from sktime.classification.kernel_based import RocketClassifier\n",
    "\n",
    "X_train, X_test, y_train, y_test = train_test_split(X, y, test_size=0.2, random_state=42)\n",
    "\n",
    "rocket = RocketClassifier(num_kernels=2000)\n",
    "rocket.fit(X_train, y_train)"
   ]
  },
  {
   "cell_type": "code",
   "execution_count": 89,
   "id": "50ec2550",
   "metadata": {},
   "outputs": [],
   "source": [
    "y_pred = rocket.predict(X_test)"
   ]
  },
  {
   "cell_type": "code",
   "execution_count": 91,
   "id": "8a66823c",
   "metadata": {},
   "outputs": [
    {
     "name": "stdout",
     "output_type": "stream",
     "text": [
      "0.9459459459459459\n"
     ]
    }
   ],
   "source": [
    "from sklearn.metrics import accuracy_score\n",
    "\n",
    "print(accuracy_score(y_test, y_pred))"
   ]
  },
  {
   "cell_type": "code",
   "execution_count": 92,
   "id": "9771e688",
   "metadata": {},
   "outputs": [
    {
     "data": {
      "text/plain": [
       "array([0, 1])"
      ]
     },
     "execution_count": 92,
     "metadata": {},
     "output_type": "execute_result"
    }
   ],
   "source": [
    "y[3:5]"
   ]
  },
  {
   "cell_type": "code",
   "execution_count": 93,
   "id": "f338d217",
   "metadata": {},
   "outputs": [
    {
     "data": {
      "text/plain": [
       "array([0, 1])"
      ]
     },
     "execution_count": 93,
     "metadata": {},
     "output_type": "execute_result"
    }
   ],
   "source": [
    "rocket.predict(X[3:5])"
   ]
  },
  {
   "cell_type": "code",
   "execution_count": 84,
   "id": "050da38a",
   "metadata": {},
   "outputs": [],
   "source": [
    "for i in range(len(data),2000):\n",
    "    data.loc[i] = [0,0,0,0,0]"
   ]
  },
  {
   "cell_type": "code",
   "execution_count": null,
   "id": "f74eab0d",
   "metadata": {},
   "outputs": [],
   "source": []
  }
 ],
 "metadata": {
  "kernelspec": {
   "display_name": "Python 3 (ipykernel)",
   "language": "python",
   "name": "python3"
  },
  "language_info": {
   "codemirror_mode": {
    "name": "ipython",
    "version": 3
   },
   "file_extension": ".py",
   "mimetype": "text/x-python",
   "name": "python",
   "nbconvert_exporter": "python",
   "pygments_lexer": "ipython3",
   "version": "3.8.13"
  }
 },
 "nbformat": 4,
 "nbformat_minor": 5
}
